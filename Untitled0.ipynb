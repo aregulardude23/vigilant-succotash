{
  "nbformat": 4,
  "nbformat_minor": 0,
  "metadata": {
    "colab": {
      "name": "Untitled0.ipynb",
      "provenance": [],
      "collapsed_sections": [],
      "authorship_tag": "ABX9TyMnzCSehrm3mgN0CfZwGoSp",
      "include_colab_link": true
    },
    "kernelspec": {
      "name": "ir",
      "display_name": "R"
    },
    "language_info": {
      "name": "R"
    }
  },
  "cells": [
    {
      "cell_type": "markdown",
      "metadata": {
        "id": "view-in-github",
        "colab_type": "text"
      },
      "source": [
        "<a href=\"https://colab.research.google.com/github/aregulardude23/vigilant-succotash/blob/main/Untitled0.ipynb\" target=\"_parent\"><img src=\"https://colab.research.google.com/assets/colab-badge.svg\" alt=\"Open In Colab\"/></a>"
      ]
    },
    {
      "cell_type": "code",
      "execution_count": null,
      "metadata": {
        "id": "XFgO8XKO68aD"
      },
      "outputs": [],
      "source": [
        "install.packages(\"jmv\")"
      ]
    },
    {
      "cell_type": "code",
      "source": [
        "library(jmv)"
      ],
      "metadata": {
        "id": "yh-4LRD0S-mz"
      },
      "execution_count": 3,
      "outputs": []
    },
    {
      "cell_type": "code",
      "source": [
        "data = read.csv('wine.csv')\n",
        "data "
      ],
      "metadata": {
        "id": "-JVE7LezTYHJ"
      },
      "execution_count": null,
      "outputs": []
    },
    {
      "cell_type": "code",
      "source": [
        "#Analisis de la variable alcohol dividida por el tipo de vino\n",
        "jmv::descriptives(\n",
        "    formula = Alcohol ~ Wine,\n",
        "    data = data,\n",
        "    hist = TRUE,\n",
        "    dens = TRUE,\n",
        "    bar = TRUE,\n",
        "    box = TRUE,\n",
        "    violin = TRUE,\n",
        "    dot = TRUE,\n",
        "    dotType = \"stack\",\n",
        "    boxLabelOutliers = FALSE,\n",
        "    qq = TRUE,\n",
        "    mode = TRUE,\n",
        "    variance = TRUE,\n",
        "    range = TRUE,\n",
        "    skew = TRUE,\n",
        "    kurt = TRUE,\n",
        "    pc = TRUE)"
      ],
      "metadata": {
        "id": "ox101W98Vf7E"
      },
      "execution_count": null,
      "outputs": []
    },
    {
      "cell_type": "code",
      "source": [
        "#Analisis de la variable metalic.acid dividida por el tipo de vino\n",
        "jmv::descriptives(\n",
        "    formula = Malic.acid ~ Wine,\n",
        "    data = data,\n",
        "    hist = TRUE,\n",
        "    dens = TRUE,\n",
        "    bar = TRUE,\n",
        "    box = TRUE,\n",
        "    violin = TRUE,\n",
        "    dot = TRUE,\n",
        "    dotType = \"stack\",\n",
        "    boxLabelOutliers = FALSE,\n",
        "    qq = TRUE,\n",
        "    mode = TRUE,\n",
        "    variance = TRUE,\n",
        "    range = TRUE,\n",
        "    skew = TRUE,\n",
        "    kurt = TRUE,\n",
        "    pc = TRUE)"
      ],
      "metadata": {
        "id": "wVf_jiTCkV7B"
      },
      "execution_count": null,
      "outputs": []
    },
    {
      "cell_type": "code",
      "source": [
        "#Analisis de la variable ash dividida por el tipo de vino\n",
        "jmv::descriptives(\n",
        "    formula = Ash ~ Wine,\n",
        "    data = data,\n",
        "    hist = TRUE,\n",
        "    dens = TRUE,\n",
        "    bar = TRUE,\n",
        "    box = TRUE,\n",
        "    violin = TRUE,\n",
        "    dot = TRUE,\n",
        "    dotType = \"stack\",\n",
        "    boxLabelOutliers = FALSE,\n",
        "    qq = TRUE,\n",
        "    mode = TRUE,\n",
        "    variance = TRUE,\n",
        "    range = TRUE,\n",
        "    skew = TRUE,\n",
        "    kurt = TRUE,\n",
        "    pc = TRUE)"
      ],
      "metadata": {
        "id": "lVKhybLKkyLe"
      },
      "execution_count": null,
      "outputs": []
    },
    {
      "cell_type": "code",
      "source": [
        "#Analisis de la variable Mg dividida por el tipo de vino\n",
        "jmv::descriptives(\n",
        "    formula = Mg ~ Wine,\n",
        "    data = data,\n",
        "    hist = TRUE,\n",
        "    dens = TRUE,\n",
        "    bar = TRUE,\n",
        "    box = TRUE,\n",
        "    violin = TRUE,\n",
        "    dot = TRUE,\n",
        "    dotType = \"stack\",\n",
        "    boxLabelOutliers = FALSE,\n",
        "    qq = TRUE,\n",
        "    mode = TRUE,\n",
        "    variance = TRUE,\n",
        "    range = TRUE,\n",
        "    skew = TRUE,\n",
        "    kurt = TRUE,\n",
        "    pc = TRUE)"
      ],
      "metadata": {
        "id": "sLsx1eC5kx_7"
      },
      "execution_count": null,
      "outputs": []
    },
    {
      "cell_type": "code",
      "source": [
        "#Analisis de la variable Phenols dividida por el tipo de vino\n",
        "jmv::descriptives(\n",
        "    formula = Phenols ~ Wine,\n",
        "    data = data,\n",
        "    hist = TRUE,\n",
        "    dens = TRUE,\n",
        "    bar = TRUE,\n",
        "    box = TRUE,\n",
        "    violin = TRUE,\n",
        "    dot = TRUE,\n",
        "    dotType = \"stack\",\n",
        "    boxLabelOutliers = FALSE,\n",
        "    qq = TRUE,\n",
        "    mode = TRUE,\n",
        "    variance = TRUE,\n",
        "    range = TRUE,\n",
        "    skew = TRUE,\n",
        "    kurt = TRUE,\n",
        "    pc = TRUE)"
      ],
      "metadata": {
        "id": "uh35ljZVkx16"
      },
      "execution_count": null,
      "outputs": []
    },
    {
      "cell_type": "code",
      "source": [
        "#Analisis de la variable Flavanoids dividida por el tipo de vino\n",
        "jmv::descriptives(\n",
        "    formula = Flavanoids ~ Wine,\n",
        "    data = data,\n",
        "    hist = TRUE,\n",
        "    dens = TRUE,\n",
        "    bar = TRUE,\n",
        "    box = TRUE,\n",
        "    violin = TRUE,\n",
        "    dot = TRUE,\n",
        "    dotType = \"stack\",\n",
        "    boxLabelOutliers = FALSE,\n",
        "    qq = TRUE,\n",
        "    mode = TRUE,\n",
        "    variance = TRUE,\n",
        "    range = TRUE,\n",
        "    skew = TRUE,\n",
        "    kurt = TRUE,\n",
        "    pc = TRUE)"
      ],
      "metadata": {
        "id": "dwIrerg4kxx_"
      },
      "execution_count": null,
      "outputs": []
    },
    {
      "cell_type": "code",
      "source": [
        "#Analisis de la variable nonflavanoid.phenols dividida por el tipo de vino\n",
        "jmv::descriptives(\n",
        "    formula = Nonflavanoid.phenols ~ Wine,\n",
        "    data = data,\n",
        "    hist = TRUE,\n",
        "    dens = TRUE,\n",
        "    bar = TRUE,\n",
        "    box = TRUE,\n",
        "    violin = TRUE,\n",
        "    dot = TRUE,\n",
        "    dotType = \"stack\",\n",
        "    boxLabelOutliers = FALSE,\n",
        "    qq = TRUE,\n",
        "    mode = TRUE,\n",
        "    variance = TRUE,\n",
        "    range = TRUE,\n",
        "    skew = TRUE,\n",
        "    kurt = TRUE,\n",
        "    pc = TRUE)"
      ],
      "metadata": {
        "id": "Q3vdox00kxvI"
      },
      "execution_count": null,
      "outputs": []
    },
    {
      "cell_type": "code",
      "source": [
        "#Analisis de la variable proanth dividida por el tipo de vino\n",
        "jmv::descriptives(\n",
        "    formula = Proanth ~ Wine,\n",
        "    data = data,\n",
        "    hist = TRUE,\n",
        "    dens = TRUE,\n",
        "    bar = TRUE,\n",
        "    box = TRUE,\n",
        "    violin = TRUE,\n",
        "    dot = TRUE,\n",
        "    dotType = \"stack\",\n",
        "    boxLabelOutliers = FALSE,\n",
        "    qq = TRUE,\n",
        "    mode = TRUE,\n",
        "    variance = TRUE,\n",
        "    range = TRUE,\n",
        "    skew = TRUE,\n",
        "    kurt = TRUE,\n",
        "    pc = TRUE)"
      ],
      "metadata": {
        "id": "GW_OQVJUkxr2"
      },
      "execution_count": null,
      "outputs": []
    },
    {
      "cell_type": "code",
      "source": [
        "#Analisis de la variable Color.int dividida por el tipo de vino\n",
        "jmv::descriptives(\n",
        "    formula = Color.int ~ Wine,\n",
        "    data = data,\n",
        "    hist = TRUE,\n",
        "    dens = TRUE,\n",
        "    bar = TRUE,\n",
        "    box = TRUE,\n",
        "    violin = TRUE,\n",
        "    dot = TRUE,\n",
        "    dotType = \"stack\",\n",
        "    boxLabelOutliers = FALSE,\n",
        "    qq = TRUE,\n",
        "    mode = TRUE,\n",
        "    variance = TRUE,\n",
        "    range = TRUE,\n",
        "    skew = TRUE,\n",
        "    kurt = TRUE,\n",
        "    pc = TRUE)"
      ],
      "metadata": {
        "id": "iIqqXxBEkxnD"
      },
      "execution_count": null,
      "outputs": []
    },
    {
      "cell_type": "code",
      "source": [
        "#Analisis de la variable Hue dividida por el tipo de vino\n",
        "jmv::descriptives(\n",
        "    formula = Hue ~ Wine,\n",
        "    data = data,\n",
        "    hist = TRUE,\n",
        "    dens = TRUE,\n",
        "    bar = TRUE,\n",
        "    box = TRUE,\n",
        "    violin = TRUE,\n",
        "    dot = TRUE,\n",
        "    dotType = \"stack\",\n",
        "    boxLabelOutliers = FALSE,\n",
        "    qq = TRUE,\n",
        "    mode = TRUE,\n",
        "    variance = TRUE,\n",
        "    range = TRUE,\n",
        "    skew = TRUE,\n",
        "    kurt = TRUE,\n",
        "    pc = TRUE)"
      ],
      "metadata": {
        "id": "OifRUvSgkxg3"
      },
      "execution_count": null,
      "outputs": []
    },
    {
      "cell_type": "code",
      "source": [
        "#Analisis de la variable OD dividida por el tipo de vino\n",
        "jmv::descriptives(\n",
        "    formula = OD ~ Wine,\n",
        "    data = data,\n",
        "    hist = TRUE,\n",
        "    dens = TRUE,\n",
        "    bar = TRUE,\n",
        "    box = TRUE,\n",
        "    violin = TRUE,\n",
        "    dot = TRUE,\n",
        "    dotType = \"stack\",\n",
        "    boxLabelOutliers = FALSE,\n",
        "    qq = TRUE,\n",
        "    mode = TRUE,\n",
        "    variance = TRUE,\n",
        "    range = TRUE,\n",
        "    skew = TRUE,\n",
        "    kurt = TRUE,\n",
        "    pc = TRUE)"
      ],
      "metadata": {
        "id": "4g4nz3qskxVx"
      },
      "execution_count": null,
      "outputs": []
    },
    {
      "cell_type": "code",
      "source": [
        "#Analisis de la variable Proline dividida por el tipo de vino\n",
        "jmv::descriptives(\n",
        "    formula = Proline ~ Wine,\n",
        "    data = data,\n",
        "    hist = TRUE,\n",
        "    dens = TRUE,\n",
        "    bar = TRUE,\n",
        "    box = TRUE,\n",
        "    violin = TRUE,\n",
        "    dot = TRUE,\n",
        "    dotType = \"stack\",\n",
        "    boxLabelOutliers = FALSE,\n",
        "    qq = TRUE,\n",
        "    mode = TRUE,\n",
        "    variance = TRUE,\n",
        "    range = TRUE,\n",
        "    skew = TRUE,\n",
        "    kurt = TRUE,\n",
        "    pc = TRUE)"
      ],
      "metadata": {
        "id": "Z4uQGyQtl8Jl"
      },
      "execution_count": null,
      "outputs": []
    },
    {
      "cell_type": "code",
      "source": [
        "# Concluimos en el analisis de los datos que se nos han que:\n",
        "\n",
        "# 1) En la variable \"Ash\" independientemente del tipo de vino, se obtiene que la\n",
        "# el promedio va por 2.35, que tiene un margen de error muy poco comparado a las \n",
        "# propias de la variable.\n",
        "\n",
        "# 2) En la variable \"Alcohol\" la varianza es un poco mas grande teniendo \n",
        "# diferencias mas grandes entre el tipo de vino \n",
        "\n",
        "# 3) En la variable de \"Flavanoids\" tenemos grandes diferencias entre los \n",
        "# diferentes tipos de vinos \n",
        "\n",
        "# 4) En la variable \"Color\" vemos que a pesar de ser vinos diferentes con\n",
        "# composiciones diferentes hay poca diferencia en el color."
      ],
      "metadata": {
        "id": "CyBdg3ccl8n6"
      },
      "execution_count": null,
      "outputs": []
    }
  ]
}